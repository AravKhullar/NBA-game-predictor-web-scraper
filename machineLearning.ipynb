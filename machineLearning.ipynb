{
 "cells": [
  {
   "cell_type": "code",
   "execution_count": 108,
   "id": "d4b48db0-6e55-4d8e-bbd5-cfd056e41188",
   "metadata": {},
   "outputs": [
    {
     "name": "stderr",
     "output_type": "stream",
     "text": [
      "C:\\Users\\khull\\AppData\\Local\\Temp\\ipykernel_24484\\231582238.py:32: DeprecationWarning: DataFrameGroupBy.apply operated on the grouping columns. This behavior is deprecated, and in a future version of pandas the grouping columns will be excluded from the operation. Either pass `include_groups=False` to exclude the groupings or explicitly select the grouping columns after groupby to silence this warning.\n",
      "  matches_rolling = matches.groupby(\"Team\").apply(lambda x: rolling_averages(x, cols, new_cols))\n"
     ]
    },
    {
     "name": "stdout",
     "output_type": "stream",
     "text": [
      "actual\n",
      "1    274\n",
      "0    127\n",
      "Name: count, dtype: int64\n"
     ]
    }
   ],
   "source": [
    "import pandas as pd\n",
    "from sklearn.ensemble import RandomForestClassifier\n",
    "from sklearn.metrics import precision_score\n",
    "\n",
    "# Read data\n",
    "matches = pd.read_csv(\"matches.csv\", index_col=0)\n",
    "players = pd.read_csv(\"players.csv\", index_col=0)\n",
    "\n",
    "# Feature engineering\n",
    "matches[\"Date\"] = pd.to_datetime(matches[\"Date\"])\n",
    "matches[\"venue_code\"] = matches[\"Venue\"].astype(\"category\").cat.codes\n",
    "matches[\"opp_code\"] = matches[\"Opponent\"].astype(\"category\").cat.codes\n",
    "matches[\"hour\"] = matches[\"Start (ET)\"].str.replace(\":.+\", \"\", regex=True).astype(int)\n",
    "matches[\"day_code\"] = matches[\"Date\"].dt.dayofweek\n",
    "matches[\"target\"] = (matches[\"Result\"] == \"W\").astype(int)\n",
    "matches[\"point_diff\"] = matches[\"Tm\"] - matches[\"Opp\"]\n",
    "matches[\"win\"] = (matches[\"Result\"] == \"W\").astype(int)\n",
    "matches[\"streak_value\"] = matches[\"Streak\"].str.replace(\"W \", \"\").str.replace(\"L \", \"-\").astype(int)\n",
    "matches[\"streak_value\"] = matches.groupby(\"Team\")[\"streak_value\"].shift(1)\n",
    "\n",
    "# Rolling averages\n",
    "def rolling_averages(group, cols, new_cols):\n",
    "    group = group.sort_values(\"Date\")\n",
    "    rolling_stats = group[cols].rolling(4, closed=\"left\").mean()\n",
    "    group[new_cols] = rolling_stats\n",
    "    group = group.dropna(subset=new_cols)\n",
    "    return group\n",
    "\n",
    "cols = [\"Tm\", \"Opp\", \"point_diff\", \"win\"]\n",
    "new_cols = [f\"{c}_rolling\" for c in cols]\n",
    "\n",
    "matches_rolling = matches.groupby(\"Team\").apply(lambda x: rolling_averages(x, cols, new_cols))\n",
    "matches_rolling = matches_rolling.droplevel(\"Team\")\n",
    "matches_rolling.index = range(matches_rolling.shape[0])\n",
    "\n",
    "# Model training function\n",
    "def make_predictions(data, predictors, model):\n",
    "    train = data[data[\"Date\"] < \"2025-01-01\"]\n",
    "    test = data[data[\"Date\"] > \"2025-01-01\"]\n",
    "    model.fit(train[predictors], train[\"target\"])\n",
    "    preds = model.predict(test[predictors])\n",
    "    combined = pd.DataFrame(dict(actual=test[\"target\"], prediction=preds), index=test.index)\n",
    "    precision = precision_score(test[\"target\"], preds)\n",
    "    return combined, precision\n",
    "\n",
    "# Set up predictors\n",
    "predictors = [\"venue_code\", \"opp_code\", \"hour\", \"day_code\", \"streak_value\"] + new_cols\n",
    "\n",
    "# Train Random Forest\n",
    "rf = RandomForestClassifier(n_estimators=5000, min_samples_split=100, random_state=1)\n",
    "\n",
    "# Make predictions\n",
    "combined, precision = make_predictions(matches_rolling, predictors, rf)\n",
    "\n",
    "# Merge back basic info\n",
    "combined = combined.merge(matches_rolling[[\"Date\", \"Team\", \"Opponent\", \"Result\"]], left_index=True, right_index=True)\n",
    "\n",
    "# Mapping team abbreviations\n",
    "class MissingDict(dict):\n",
    "    __missing__ = lambda self, key: key\n",
    "\n",
    "map_values = {\n",
    "    \"ATL\": \"Atlanta Hawks\",\n",
    "    \"BOS\": \"Boston Celtics\",\n",
    "    \"BRK\": \"Brooklyn Nets\",\n",
    "    \"CHA\": \"Charlotte Hornets\",\n",
    "    \"CHI\": \"Chicago Bulls\",\n",
    "    \"CLE\": \"Cleveland Cavaliers\",\n",
    "    \"DAL\": \"Dallas Mavericks\",\n",
    "    \"DEN\": \"Denver Nuggets\",\n",
    "    \"DET\": \"Detroit Pistons\",\n",
    "    \"GSW\": \"Golden State Warriors\",\n",
    "    \"HOU\": \"Houston Rockets\",\n",
    "    \"IND\": \"Indiana Pacers\",\n",
    "    \"LAC\": \"Los Angeles Clippers\",\n",
    "    \"LAL\": \"Los Angeles Lakers\",\n",
    "    \"MEM\": \"Memphis Grizzlies\",\n",
    "    \"MIA\": \"Miami Heat\",\n",
    "    \"MIL\": \"Milwaukee Bucks\",\n",
    "    \"MIN\": \"Minnesota Timberwolves\",\n",
    "    \"NOP\": \"New Orleans Pelicans\",\n",
    "    \"NYK\": \"New York Knicks\",\n",
    "    \"OKC\": \"Oklahoma City Thunder\",\n",
    "    \"ORL\": \"Orlando Magic\",\n",
    "    \"PHI\": \"Philadelphia 76ers\",\n",
    "    \"PHX\": \"Phoenix Suns\",\n",
    "    \"POR\": \"Portland Trail Blazers\",\n",
    "    \"SAC\": \"Sacramento Kings\",\n",
    "    \"SAS\": \"San Antonio Spurs\",\n",
    "    \"TOR\": \"Toronto Raptors\",\n",
    "    \"UTA\": \"Utah Jazz\",\n",
    "    \"WAS\": \"Washington Wizards\"\n",
    "}\n",
    "mapping = MissingDict(**map_values)\n",
    "\n",
    "# Map full team names\n",
    "combined[\"new_team\"] = combined[\"Team\"].map(mapping)\n",
    "\n",
    "# Merge to add opponent features\n",
    "merged = combined.merge(\n",
    "    combined,\n",
    "    left_on=[\"Date\", \"Opponent\"],\n",
    "    right_on=[\"Date\", \"new_team\"],\n",
    "    suffixes=('', '_opponent'),\n",
    "    how='inner'\n",
    ")\n",
    "\n",
    "# Now you can analyze\n",
    "print(merged[(merged[\"prediction\"] == 1) & (merged[\"prediction_opponent\"] == 0)][\"actual\"].value_counts())"
   ]
  },
  {
   "cell_type": "code",
   "execution_count": 64,
   "id": "b13c1bc2-12fb-4030-81d8-bdf45bf9ccb8",
   "metadata": {},
   "outputs": [
    {
     "data": {
      "text/plain": [
       "0.6632911392405063"
      ]
     },
     "execution_count": 64,
     "metadata": {},
     "output_type": "execute_result"
    }
   ],
   "source": [
    "262/(262+133)"
   ]
  },
  {
   "cell_type": "code",
   "execution_count": 107,
   "id": "68c277a2-3bbd-4645-bac4-064d2c274bc4",
   "metadata": {},
   "outputs": [
    {
     "data": {
      "text/plain": [
       "0.5941676792223572"
      ]
     },
     "execution_count": 107,
     "metadata": {},
     "output_type": "execute_result"
    }
   ],
   "source": [
    "precision"
   ]
  },
  {
   "cell_type": "code",
   "execution_count": 116,
   "id": "4db88f6c-015f-44bd-baf2-e6142866e6c3",
   "metadata": {},
   "outputs": [
    {
     "name": "stdout",
     "output_type": "stream",
     "text": [
      "Prediction for tomorrow's game:\n",
      "🏀 Model predicts: WIN\n"
     ]
    }
   ],
   "source": [
    "# Step 1: Prepare input for tomorrow\n",
    "\n",
    "# Assume you have precomputed latest rolling stats manually or from your matches.csv\n",
    "# Example dummy values (you should use real ones if you have them!)\n",
    "venue_code = 1  # Home = 1, Away = 0 (you must check your data encoding)\n",
    "opp_code = 8   # MIA code (you must check what code 'MIA' maps to)\n",
    "hour = 7\n",
    "day_code = 1  # If tomorrow is Tuesday, dayofweek=1\n",
    "streak_value = 2 # Say Cavaliers are on 4 game win streak\n",
    "\n",
    "# Rolling stats (fake example numbers — replace with real)\n",
    "Tm_rolling = 107.25\n",
    "Opp_rolling = 105.25\n",
    "point_diff_rolling = 2\n",
    "win_rolling = 0.75\n",
    "\n",
    "# Build single prediction row\n",
    "import pandas as pd\n",
    "\n",
    "tomorrow_game = pd.DataFrame({\n",
    "    \"venue_code\": [venue_code],\n",
    "    \"opp_code\": [opp_code],\n",
    "    \"hour\": [hour],\n",
    "    \"day_code\": [day_code],\n",
    "    \"streak_value\": [streak_value],\n",
    "    \"Tm_rolling\": [Tm_rolling],\n",
    "    \"Opp_rolling\": [Opp_rolling],\n",
    "    \"point_diff_rolling\": [point_diff_rolling],\n",
    "    \"win_rolling\": [win_rolling]\n",
    "})\n",
    "\n",
    "# Step 2: Predict\n",
    "prediction = rf.predict(tomorrow_game)\n",
    "\n",
    "# Step 3: Output result\n",
    "print(\"Prediction for tomorrow's game:\")\n",
    "if prediction[0] == 1:\n",
    "    print(\"🏀 Model predicts: WIN\")\n",
    "else:\n",
    "    print(\"🏀 Model predicts: LOSS\")"
   ]
  },
  {
   "cell_type": "code",
   "execution_count": null,
   "id": "0a3e391e-f78d-449b-9a0b-9734caad2be8",
   "metadata": {},
   "outputs": [],
   "source": []
  }
 ],
 "metadata": {
  "kernelspec": {
   "display_name": "Python 3 (ipykernel)",
   "language": "python",
   "name": "python3"
  },
  "language_info": {
   "codemirror_mode": {
    "name": "ipython",
    "version": 3
   },
   "file_extension": ".py",
   "mimetype": "text/x-python",
   "name": "python",
   "nbconvert_exporter": "python",
   "pygments_lexer": "ipython3",
   "version": "3.13.3"
  }
 },
 "nbformat": 4,
 "nbformat_minor": 5
}
