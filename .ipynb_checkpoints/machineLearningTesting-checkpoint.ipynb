{
 "cells": [
  {
   "cell_type": "code",
   "execution_count": 1,
   "id": "4514a6f5-7b65-4d02-8632-b4fdde8a2f57",
   "metadata": {},
   "outputs": [],
   "source": [
    "import pandas as pd"
   ]
  },
  {
   "cell_type": "code",
   "execution_count": 2,
   "id": "96e4a546-6842-442d-bce0-21c2baf57b59",
   "metadata": {},
   "outputs": [],
   "source": [
    "matches = pd.read_csv(\"matches.csv\", index_col = 0)"
   ]
  },
  {
   "cell_type": "code",
   "execution_count": 3,
   "id": "74a3ad6a-3554-4e1b-95e4-b5bdef0dfbeb",
   "metadata": {},
   "outputs": [],
   "source": [
    "players = pd.read_csv(\"players.csv\", index_col = 0)"
   ]
  },
  {
   "cell_type": "code",
   "execution_count": 4,
   "id": "5eaccf49-d9f7-41aa-b3a0-ce884c6be63c",
   "metadata": {},
   "outputs": [
    {
     "data": {
      "text/plain": [
       "2460"
      ]
     },
     "execution_count": 4,
     "metadata": {},
     "output_type": "execute_result"
    }
   ],
   "source": [
    "82 * 30"
   ]
  },
  {
   "cell_type": "code",
   "execution_count": 5,
   "id": "8861fc1e-7aad-41a8-ac63-c10ab9855246",
   "metadata": {},
   "outputs": [
    {
     "data": {
      "text/plain": [
       "(2472, 13)"
      ]
     },
     "execution_count": 5,
     "metadata": {},
     "output_type": "execute_result"
    }
   ],
   "source": [
    "matches.shape"
   ]
  },
  {
   "cell_type": "code",
   "execution_count": 6,
   "id": "159e1032-2d24-42fa-9c1e-0cdbe3c62603",
   "metadata": {},
   "outputs": [
    {
     "data": {
      "text/plain": [
       "Team\n",
       "CHI    84\n",
       "MIA    84\n",
       "SAC    84\n",
       "NOP    84\n",
       "ATL    83\n",
       "PHI    83\n",
       "GSW    83\n",
       "LAL    83\n",
       "CLE    82\n",
       "MIL    82\n",
       "IND    82\n",
       "ORL    82\n",
       "BOS    82\n",
       "NYK    82\n",
       "WAS    82\n",
       "CHO    82\n",
       "TOR    82\n",
       "BRK    82\n",
       "MIN    82\n",
       "DET    82\n",
       "DEN    82\n",
       "OKC    82\n",
       "PHO    82\n",
       "DAL    82\n",
       "LAC    82\n",
       "HOU    82\n",
       "UTA    82\n",
       "MEM    82\n",
       "SAS    82\n",
       "POR    82\n",
       "Name: count, dtype: int64"
      ]
     },
     "execution_count": 6,
     "metadata": {},
     "output_type": "execute_result"
    }
   ],
   "source": [
    "matches[\"Team\"].value_counts()"
   ]
  },
  {
   "cell_type": "code",
   "execution_count": 10,
   "id": "10bf81a1-4852-4c5e-a0e6-265e7ebeffd4",
   "metadata": {},
   "outputs": [
    {
     "data": {
      "text/plain": [
       "Date          datetime64[ns]\n",
       "Start (ET)            object\n",
       "Opponent              object\n",
       "Result                object\n",
       "Tm                     int64\n",
       "Opp                    int64\n",
       "W                      int64\n",
       "L                      int64\n",
       "Streak                object\n",
       "Attend.                int64\n",
       "LOG                   object\n",
       "Season                 int64\n",
       "Team                  object\n",
       "dtype: object"
      ]
     },
     "execution_count": 10,
     "metadata": {},
     "output_type": "execute_result"
    }
   ],
   "source": [
    "matches.dtypes"
   ]
  },
  {
   "cell_type": "code",
   "execution_count": 9,
   "id": "d4a00edf-5424-465e-ad62-71a74bef8055",
   "metadata": {},
   "outputs": [],
   "source": [
    "matches[\"Date\"] = pd.to_datetime(matches[\"Date\"])"
   ]
  },
  {
   "cell_type": "code",
   "execution_count": null,
   "id": "243301bd-39a9-4daf-bd09-1b26b7607a76",
   "metadata": {},
   "outputs": [],
   "source": []
  }
 ],
 "metadata": {
  "kernelspec": {
   "display_name": "Python 3 (ipykernel)",
   "language": "python",
   "name": "python3"
  },
  "language_info": {
   "codemirror_mode": {
    "name": "ipython",
    "version": 3
   },
   "file_extension": ".py",
   "mimetype": "text/x-python",
   "name": "python",
   "nbconvert_exporter": "python",
   "pygments_lexer": "ipython3",
   "version": "3.13.1"
  }
 },
 "nbformat": 4,
 "nbformat_minor": 5
}
